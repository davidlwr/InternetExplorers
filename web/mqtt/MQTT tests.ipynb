{
 "cells": [
  {
   "cell_type": "code",
   "execution_count": null,
   "metadata": {},
   "outputs": [],
   "source": [
    "import paho.mqtt.client as mqtt\n",
    "import time"
   ]
  },
  {
   "cell_type": "code",
   "execution_count": null,
   "metadata": {},
   "outputs": [],
   "source": [
    "def on_message(client, userdata, message):\n",
    "    print(\"message received \" ,str(message.payload.decode(\"utf-8\")))\n",
    "    print(\"message topic=\",message.topic)\n",
    "    print(\"message qos=\",message.qos)\n",
    "    print(\"message retain flag=\",message.retain)"
   ]
  },
  {
   "cell_type": "code",
   "execution_count": null,
   "metadata": {},
   "outputs": [],
   "source": [
    "import paho.mqtt.client as mqtt\n",
    "\n",
    "hostname = ''\n",
    "\n",
    "client = mqtt.Client(client_id=”stbern_consumer”, \n",
    "                     clean_session=True, \n",
    "                     userdata=None, \n",
    "                     protocol=MQTTv311, \n",
    "                     transport=”tcp”)\n",
    "\n",
    "client.connect(hostname)\n",
    "\n",
    "client.subscribe(\"test/topic\")\n",
    "client.on_message=on_message # callback function\n",
    "client.loop_start() # Begin loop so callback works or something, idk lol\n",
    "\n",
    "\n",
    "client.publish('test/topic', \"this is a message sent over paho-mqtt\")\n",
    "\n",
    "# Stop client\n",
    "time.sleep(5) # Pause everything for awhile so callback processes before stopping client\n",
    "client.loop_stop()\n",
    "\n"
   ]
  }
 ],
 "metadata": {
  "kernelspec": {
   "display_name": "Python 3",
   "language": "python",
   "name": "python3"
  },
  "language_info": {
   "codemirror_mode": {
    "name": "ipython",
    "version": 3
   },
   "file_extension": ".py",
   "mimetype": "text/x-python",
   "name": "python",
   "nbconvert_exporter": "python",
   "pygments_lexer": "ipython3",
   "version": "3.6.5"
  }
 },
 "nbformat": 4,
 "nbformat_minor": 2
}
